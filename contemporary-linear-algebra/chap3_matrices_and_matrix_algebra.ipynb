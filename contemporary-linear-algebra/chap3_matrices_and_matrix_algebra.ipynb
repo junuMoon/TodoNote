{
 "cells": [
  {
   "cell_type": "code",
   "execution_count": null,
   "metadata": {},
   "outputs": [],
   "source": [
    "import numpy as np\n",
    "# 3-1-d6\n",
    "# Let A =[[2, 2], [2, 2]] and B = [[5, 0], [0, 9]]\n",
    "# a) Find two square roots of A\n",
    "A = np.array([[2, 2], [2, 2]])\n",
    "m1 = np.array([[1, 1], [1, 1]])\n",
    "m2 = np.array([[-1, -1], [-1, -1]])\n",
    "\n",
    "# b) How many different square roots of B can you find?\n",
    "B = np.array([[5, 0], [0, 9]])\n",
    "n1 = np.array([[np.sqrt(5), 0], [0, np.sqrt(9)]])\n",
    "n2 = np.array([[-np.sqrt(5), 0], [0, -np.sqrt(9)]])\n",
    "\n",
    "# c) Do you think that every square matrix has a square root?\n",
    "# Yes, every square matrix has a square root\n",
    "# if A = [[a, b], [c, d]], then A^2 = [[a^2 + bc, ab + bd], [ac + cd, bc + d^2]]\n",
    "# So that any matrix M can be decomposed into A*A\n"
   ]
  },
  {
   "attachments": {},
   "cell_type": "markdown",
   "metadata": {},
   "source": [
    "### ChatGPT answer to my reasoning\n",
    "\n",
    "I see what you're aiming for, but it's not quite as simple as setting the components of M equal to the components of A^2. The issue arises because the operations involved in matrix multiplication aren't strictly component-wise. Rather, they involve a kind of interaction between the components.\n",
    "\n",
    "If we try to apply your reasoning to a general 2x2 matrix, it does not work because matrix multiplication involves cross terms. In other words, the (i, j) entry of A^2 depends on multiple entries of A, not just the (i, j) entry of A.\n",
    "\n",
    "Given A = [[a, b], [c, d]], you're correct that A^2 = [[a^2 + bc, ab + bd], [ac + cd, bc + d^2]]. However, this doesn't imply that for an arbitrary M = [[m11, m12], [m21, m22]], we can just set a^2 + bc = m11, ab + bd = m12, ac + cd = m21, and bc + d^2 = m22, and solve for a, b, c, and d.\n",
    "\n",
    "Why? Because these four equations are not independent. For example, adding the first and last equations gives a^2 + 2bc + d^2 = m11 + m22, while adding the second and third equations gives (a+d)(b+c) = m12 + m21. Since bc appears in the first and last equations and b+c appears in the second and third, you'd have to ensure that these relationships are consistent for the same values of b and c, which isn't generally possible.\n",
    "\n",
    "일단 우리가 a, b, c, d의 값을 찾아야 하는 네 개의 방정식을 갖고 있다고 합시다:\n",
    "\n",
    "a^2 + bc = m11\n",
    "ab + bd = m12\n",
    "ac + cd = m21\n",
    "bc + d^2 = m22\n",
    "이때 두 번째와 세 번째 방정식을 더하면 다음과 같은 새로운 방정식을 얻을 수 있습니다: (a+d)(b+c) = m12 + m21\n",
    "\n",
    "이 새로운 방정식은 사실상 b와 c에 대한 새로운 정보를 제공하지 않습니다. 왜냐하면 이 방정식은 여전히 b와 c의 선형 조합인데, 이는 원래 두 번째와 세 번째 방정식에서도 나타나는 조건이기 때문입니다. 즉, 새로운 독립적인 정보를 제공하지 않는 것이죠.\n",
    "\n",
    "이제 첫 번째와 네 번째 방정식을 더하면 다음과 같은 새로운 방정식을 얻을 수 있습니다: a^2 + 2bc + d^2 = m11 + m22\n",
    "\n",
    "이 새로운 방정식 역시 b와 c에 대한 새로운 정보를 제공하지 않습니다. 왜냐하면 bc라는 항이 여전히 존재하고, 이 항은 원래의 첫 번째와 네 번째 방정식에서도 나타나는 조건이기 때문입니다.\n",
    "\n",
    "따라서 이 네 개의 방정식은 사실상 독립적인 네 개의 방정식이 아니라, 실제로는 두 개의 독립적인 조건을 나타내는 것입니다. 이 두 조건은 a와 d에 대한 조건이며, b와 c에 대한 별개의 조건은 존재하지 않습니다. 따라서 이 네 개의 방정식을 모두 만족하는 a, b, c, d의 해를 찾는 것은 일반적"
   ]
  },
  {
   "cell_type": "code",
   "execution_count": null,
   "metadata": {},
   "outputs": [],
   "source": [
    "# 3-1-d9\n",
    "# Indicate whether the statement is true (T) or false (F). Justify your answer.\n",
    "# (a) If AB and BA are both defined, then A and B are square matrices.\n",
    "# False (A and B can be rectangular matrices)\n",
    "# For example, A = 2 by 3, B = 3 by 2\n",
    "# AB = 2 by 2, BA = 3 by 3\n",
    "\n",
    "# (b) If AB + BA is defined, then A and B are square matrices of the same size.\n",
    "# False, A and B just be the same size\n",
    "\n",
    "# (c) If B has a column of zeros, then so does AB if this product is defined.\n",
    "# True\n",
    "# c_j(AB) = Ac_j(B). So if c_j(B) = 0, then c_j(AB) = 0\n",
    "\n",
    "# (d) If B has a column of zeros, then so does BA if this product is defined.\n",
    "# False\n",
    "# The jth column of a matrix produb BA is a linear combination \n",
    "# of the column vectors of B with coefficients from the jth row of A.\n",
    "# So if a_j is not a column of zeros, then BA may not have a column of zeros\n",
    "\n",
    "# (e) The expressions tr(A^TA) and tr(AA^T) are defined for every matrix A.\n",
    "# True\n",
    "# A^TA and AA^T are both square matrices, so tr(A^TA) and tr(AA^T) are defined\n",
    "\n",
    "# (f) If u and v are row vectors,then u^Tv = u • v\n",
    "# False\n",
    "# u^Tv is a scalar, u • v is not defined for row vectors.\n"
   ]
  }
 ],
 "metadata": {
  "kernelspec": {
   "display_name": "toy",
   "language": "python",
   "name": "python3"
  },
  "language_info": {
   "codemirror_mode": {
    "name": "ipython",
    "version": 3
   },
   "file_extension": ".py",
   "mimetype": "text/x-python",
   "name": "python",
   "nbconvert_exporter": "python",
   "pygments_lexer": "ipython3",
   "version": "3.10.5"
  },
  "orig_nbformat": 4
 },
 "nbformat": 4,
 "nbformat_minor": 2
}
